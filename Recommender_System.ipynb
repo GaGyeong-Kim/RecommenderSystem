{
  "nbformat": 4,
  "nbformat_minor": 0,
  "metadata": {
    "colab": {
      "provenance": [],
      "toc_visible": true,
      "authorship_tag": "ABX9TyP0M0fhFb4Id9MuW4NTeboF",
      "include_colab_link": true
    },
    "kernelspec": {
      "name": "python3",
      "display_name": "Python 3"
    },
    "language_info": {
      "name": "python"
    }
  },
  "cells": [
    {
      "cell_type": "markdown",
      "metadata": {
        "id": "view-in-github",
        "colab_type": "text"
      },
      "source": [
        "<a href=\"https://colab.research.google.com/github/GaGyeong-Kim/RecommenderSystem/blob/main/Recommender_System.ipynb\" target=\"_parent\"><img src=\"https://colab.research.google.com/assets/colab-badge.svg\" alt=\"Open In Colab\"/></a>"
      ]
    },
    {
      "cell_type": "markdown",
      "source": [
        "# Surprise\n",
        "- **추천 시스템** 개발을 위한 라이브러리\n",
        "- 다양한 모델과 데이터 제공\n",
        "- **scikit-learn** 과 유사한 사용 방법"
      ],
      "metadata": {
        "id": "S9eTLWs2lDBt"
      }
    },
    {
      "cell_type": "code",
      "execution_count": 1,
      "metadata": {
        "colab": {
          "base_uri": "https://localhost:8080/"
        },
        "id": "jCgpyuWEk-BE",
        "outputId": "747db1c1-6ca1-4889-f8da-d0d3e5391675"
      },
      "outputs": [
        {
          "output_type": "stream",
          "name": "stdout",
          "text": [
            "Collecting scikit-surprise\n",
            "  Downloading scikit-surprise-1.1.3.tar.gz (771 kB)\n",
            "\u001b[2K     \u001b[90m━━━━━━━━━━━━━━━━━━━━━━━━━━━━━━━━━━━━━━━━\u001b[0m \u001b[32m772.0/772.0 kB\u001b[0m \u001b[31m4.6 MB/s\u001b[0m eta \u001b[36m0:00:00\u001b[0m\n",
            "\u001b[?25h  Preparing metadata (setup.py) ... \u001b[?25l\u001b[?25hdone\n",
            "Requirement already satisfied: joblib>=1.0.0 in /usr/local/lib/python3.10/dist-packages (from scikit-surprise) (1.3.2)\n",
            "Requirement already satisfied: numpy>=1.17.3 in /usr/local/lib/python3.10/dist-packages (from scikit-surprise) (1.23.5)\n",
            "Requirement already satisfied: scipy>=1.3.2 in /usr/local/lib/python3.10/dist-packages (from scikit-surprise) (1.11.4)\n",
            "Building wheels for collected packages: scikit-surprise\n",
            "  Building wheel for scikit-surprise (setup.py) ... \u001b[?25l\u001b[?25hdone\n",
            "  Created wheel for scikit-surprise: filename=scikit_surprise-1.1.3-cp310-cp310-linux_x86_64.whl size=3162678 sha256=cc85a78e3e6799ca480831e04cd738524d58bcadc5b95f7b96d448dd5d9ead9e\n",
            "  Stored in directory: /root/.cache/pip/wheels/a5/ca/a8/4e28def53797fdc4363ca4af740db15a9c2f1595ebc51fb445\n",
            "Successfully built scikit-surprise\n",
            "Installing collected packages: scikit-surprise\n",
            "Successfully installed scikit-surprise-1.1.3\n"
          ]
        }
      ],
      "source": [
        "!pip install scikit-surprise"
      ]
    },
    {
      "cell_type": "code",
      "source": [
        "from surprise import SVD\n",
        "from surprise import Dataset\n",
        "from surprise.model_selection import cross_validate"
      ],
      "metadata": {
        "id": "FPV77KzemmY3"
      },
      "execution_count": 2,
      "outputs": []
    },
    {
      "cell_type": "markdown",
      "source": [
        "## 데이터 불러오기\n",
        "- 데이터 형식 : 사용자, 영화, 별점, id"
      ],
      "metadata": {
        "id": "tMAo2cuInG5V"
      }
    },
    {
      "cell_type": "code",
      "source": [
        "data = Dataset.load_builtin('ml-100k', prompt = False)\n",
        "data.raw_ratings[:10]"
      ],
      "metadata": {
        "colab": {
          "base_uri": "https://localhost:8080/"
        },
        "id": "XRWdsrQ1m2CV",
        "outputId": "48523261-53ac-4ae5-c3ae-8dd9adaabcc0"
      },
      "execution_count": 5,
      "outputs": [
        {
          "output_type": "execute_result",
          "data": {
            "text/plain": [
              "[('196', '242', 3.0, '881250949'),\n",
              " ('186', '302', 3.0, '891717742'),\n",
              " ('22', '377', 1.0, '878887116'),\n",
              " ('244', '51', 2.0, '880606923'),\n",
              " ('166', '346', 1.0, '886397596'),\n",
              " ('298', '474', 4.0, '884182806'),\n",
              " ('115', '265', 2.0, '881171488'),\n",
              " ('253', '465', 5.0, '891628467'),\n",
              " ('305', '451', 3.0, '886324817'),\n",
              " ('6', '86', 3.0, '883603013')]"
            ]
          },
          "metadata": {},
          "execution_count": 5
        }
      ]
    },
    {
      "cell_type": "code",
      "source": [
        "model = SVD()"
      ],
      "metadata": {
        "id": "K8GBTLY2m-Fs"
      },
      "execution_count": 11,
      "outputs": []
    },
    {
      "cell_type": "code",
      "source": [
        "cross_validate(model, data, measures = ['rmse','mae'], cv = 5, verbose = True)"
      ],
      "metadata": {
        "colab": {
          "base_uri": "https://localhost:8080/"
        },
        "id": "e6R66rMinS8c",
        "outputId": "dc0579c6-9f9c-4e7f-c523-54aee46108c5"
      },
      "execution_count": 12,
      "outputs": [
        {
          "output_type": "stream",
          "name": "stdout",
          "text": [
            "Evaluating RMSE, MAE of algorithm SVD on 5 split(s).\n",
            "\n",
            "                  Fold 1  Fold 2  Fold 3  Fold 4  Fold 5  Mean    Std     \n",
            "RMSE (testset)    0.9293  0.9339  0.9369  0.9423  0.9423  0.9369  0.0050  \n",
            "MAE (testset)     0.7305  0.7366  0.7394  0.7433  0.7415  0.7383  0.0045  \n",
            "Fit time          0.95    0.96    0.95    0.95    0.96    0.95    0.01    \n",
            "Test time         0.09    0.08    0.17    0.10    0.18    0.12    0.04    \n"
          ]
        },
        {
          "output_type": "execute_result",
          "data": {
            "text/plain": [
              "{'test_rmse': array([0.92927599, 0.93392179, 0.93685059, 0.94231711, 0.94229168]),\n",
              " 'test_mae': array([0.73045067, 0.73659106, 0.7393722 , 0.74334064, 0.7415279 ]),\n",
              " 'fit_time': (0.9490604400634766,\n",
              "  0.9584696292877197,\n",
              "  0.9475162029266357,\n",
              "  0.9542264938354492,\n",
              "  0.96329665184021),\n",
              " 'test_time': (0.08787417411804199,\n",
              "  0.08193445205688477,\n",
              "  0.16666078567504883,\n",
              "  0.09796810150146484,\n",
              "  0.17565345764160156)}"
            ]
          },
          "metadata": {},
          "execution_count": 12
        }
      ]
    },
    {
      "cell_type": "markdown",
      "source": [
        "# 컨텐츠 기반 필터링(Content_based Filtering)"
      ],
      "metadata": {
        "id": "xJS1Q1CgoG5b"
      }
    },
    {
      "cell_type": "markdown",
      "source": [
        "- 이전의 행동과 명시적 피드백을 통해 좋아하는 것과 유사한 항목 추천\n",
        "  - 내가 지금까지 시청한 영화 목록과 다른 사용자의 시청 목록을 비교해 나와 비슷한 취향의 사용자가 시청한 영화 추천\n",
        "- 유사도 기반으로 추천\n"
      ],
      "metadata": {
        "id": "hhC1a7ZfoNox"
      }
    },
    {
      "cell_type": "code",
      "source": [
        "import numpy as np\n",
        "from surprise import Dataset"
      ],
      "metadata": {
        "id": "0iJ4apu4n0eD"
      },
      "execution_count": 13,
      "outputs": []
    },
    {
      "cell_type": "code",
      "source": [
        "data = Dataset.load_builtin('ml-100k', prompt = False)\n",
        "raw_data = np.array(data.raw_ratings,dtype = int)"
      ],
      "metadata": {
        "id": "-MhH_GrNpJnC"
      },
      "execution_count": 24,
      "outputs": []
    },
    {
      "cell_type": "code",
      "source": [
        "# raw data를 0부터 사용할 수 있도록 조정\n",
        "raw_data[:,0] -= 1\n",
        "raw_data[:,1] -= 1"
      ],
      "metadata": {
        "id": "lJgcMs-RpRf4"
      },
      "execution_count": 25,
      "outputs": []
    },
    {
      "cell_type": "markdown",
      "source": [
        "### 인접 행렬을 활용한 유사도 계산"
      ],
      "metadata": {
        "id": "1zPBsbgxuJhQ"
      }
    },
    {
      "cell_type": "code",
      "source": [
        "# 인접 행렬의 크기\n",
        "n_users = np.max(raw_data[:,0])\n",
        "n_movies = np.max(raw_data[:,1])\n",
        "shape = (n_users+1, n_movies+1)\n",
        "shape"
      ],
      "metadata": {
        "colab": {
          "base_uri": "https://localhost:8080/"
        },
        "id": "kVKhTOx4pV1X",
        "outputId": "8bd329a0-1a5d-4b8c-ac84-991f1a2c436b"
      },
      "execution_count": 26,
      "outputs": [
        {
          "output_type": "execute_result",
          "data": {
            "text/plain": [
              "(943, 1682)"
            ]
          },
          "metadata": {},
          "execution_count": 26
        }
      ]
    },
    {
      "cell_type": "code",
      "source": [
        "# 1이 있는 위치가 데이터가 있는 위치 (1: 본 영화 / 0 : 안 본 영))\n",
        "adj_matrix = np.ndarray(shape, dtype = int)\n",
        "for user_id, movie_id, raing, time in raw_data:\n",
        "  adj_matrix[user_id][movie_id] = 1.\n",
        "adj_matrix"
      ],
      "metadata": {
        "colab": {
          "base_uri": "https://localhost:8080/"
        },
        "id": "-r8pgFTIqGcz",
        "outputId": "1ae13a68-4f86-41c3-d145-1b7ea5de038e"
      },
      "execution_count": 27,
      "outputs": [
        {
          "output_type": "execute_result",
          "data": {
            "text/plain": [
              "array([[1, 1, 1, ..., 0, 0, 0],\n",
              "       [1, 0, 0, ..., 0, 0, 0],\n",
              "       [0, 0, 0, ..., 0, 0, 0],\n",
              "       ...,\n",
              "       [1, 0, 0, ..., 0, 0, 0],\n",
              "       [0, 0, 0, ..., 0, 0, 0],\n",
              "       [0, 1, 0, ..., 0, 0, 0]])"
            ]
          },
          "metadata": {},
          "execution_count": 27
        }
      ]
    },
    {
      "cell_type": "code",
      "source": [
        "my_id, my_vector = 0, adj_matrix[0]\n",
        "best_match, best_match_id, best_match_vector = -1,-1,[]\n",
        "\n",
        "# 유사도 계산(다른 아이디와 유사도 계산해야 함)\n",
        "for user_id, user_vector in enumerate(adj_matrix):\n",
        "  if my_id != user_id:\n",
        "    similarity = np.dot(my_vector, user_vector)\n",
        "    if similarity > best_match:\n",
        "      best_match = similarity\n",
        "      best_match_id = user_id\n",
        "      best_match_vector = user_vector\n",
        "print('Best Match: {}, Best Match ID: {}'.format(best_match, best_match_id))"
      ],
      "metadata": {
        "colab": {
          "base_uri": "https://localhost:8080/"
        },
        "id": "7Uk1kyGFsApE",
        "outputId": "211d47ac-106d-49fb-ad0e-0179a23e2577"
      },
      "execution_count": 28,
      "outputs": [
        {
          "output_type": "stream",
          "name": "stdout",
          "text": [
            "Best Match: 183, Best Match ID: 275\n"
          ]
        }
      ]
    },
    {
      "cell_type": "code",
      "source": [
        "# ID 275가 볼 만한 영화 추천\n",
        "recommend_list = []\n",
        "for i, log in enumerate(zip(my_vector, best_match_vector)):\n",
        "  log1, log2 = log\n",
        "  if log1 < 1. and log2 > 0. :\n",
        "    recommend_list.append(i)\n",
        "print(recommend_list)"
      ],
      "metadata": {
        "colab": {
          "base_uri": "https://localhost:8080/"
        },
        "id": "04W_GTW8tUNM",
        "outputId": "f991a226-70a4-46b7-d066-f550518831ec"
      },
      "execution_count": 29,
      "outputs": [
        {
          "output_type": "stream",
          "name": "stdout",
          "text": [
            "[272, 273, 275, 280, 281, 283, 287, 288, 289, 290, 292, 293, 297, 299, 300, 301, 302, 306, 312, 314, 315, 316, 317, 321, 322, 323, 324, 327, 330, 331, 332, 333, 339, 342, 345, 346, 353, 354, 355, 356, 357, 363, 364, 365, 366, 372, 374, 378, 379, 381, 382, 383, 384, 385, 386, 387, 390, 391, 392, 394, 395, 396, 398, 400, 401, 402, 403, 404, 405, 406, 407, 408, 409, 410, 412, 414, 416, 417, 418, 419, 420, 422, 424, 425, 426, 427, 428, 430, 431, 432, 435, 442, 446, 447, 448, 449, 450, 451, 452, 454, 455, 457, 460, 461, 462, 468, 469, 470, 471, 472, 473, 474, 478, 495, 500, 507, 517, 522, 525, 530, 539, 540, 543, 545, 546, 548, 549, 550, 551, 553, 557, 558, 560, 561, 562, 563, 565, 566, 567, 568, 570, 571, 574, 575, 576, 577, 580, 581, 582, 585, 587, 589, 590, 594, 596, 602, 623, 626, 627, 630, 633, 635, 639, 646, 648, 651, 652, 654, 657, 664, 668, 671, 677, 678, 681, 683, 684, 685, 690, 691, 692, 695, 696, 708, 709, 714, 718, 719, 720, 724, 726, 727, 731, 733, 734, 736, 738, 741, 742, 745, 746, 747, 749, 750, 754, 758, 762, 764, 767, 768, 769, 770, 771, 772, 773, 778, 779, 782, 785, 788, 789, 793, 795, 796, 799, 800, 801, 802, 805, 806, 808, 815, 819, 822, 824, 830, 839, 842, 843, 844, 852, 853, 870, 875, 878, 880, 889, 901, 914, 915, 918, 921, 927, 929, 930, 938, 940, 941, 942, 948, 950, 958, 968, 973, 974, 976, 992, 999, 1005, 1009, 1010, 1012, 1015, 1018, 1027, 1030, 1034, 1035, 1041, 1043, 1045, 1046, 1051, 1055, 1072, 1073, 1078, 1080, 1082, 1088, 1089, 1090, 1094, 1097, 1108, 1109, 1117, 1128, 1130, 1134, 1139, 1140, 1144, 1156, 1169, 1171, 1179, 1193, 1198, 1207, 1209, 1212, 1217, 1219, 1220, 1227, 1231, 1238, 1239, 1243, 1244, 1252, 1266, 1272, 1273, 1300, 1313, 1406, 1412, 1415, 1470, 1477, 1480, 1481, 1482]\n"
          ]
        }
      ]
    },
    {
      "cell_type": "markdown",
      "source": [
        "### 유클리드 거리를 사용한 추천"
      ],
      "metadata": {
        "id": "7X9bPccWuNYU"
      }
    },
    {
      "cell_type": "markdown",
      "source": [
        "d(P, Q) = sqrt((x₂ - x₁)² + (y₂ - y₁)²)\""
      ],
      "metadata": {
        "id": "LF9pAc0qumP2"
      }
    },
    {
      "cell_type": "code",
      "source": [
        "my_id, my_vector = 0, adj_matrix[0]\n",
        "best_match, best_match_id, best_match_vector =9999,-1,[]\n",
        "\n",
        "# 유클리디안 거리를 계산(다른 아이디와 계산해야 함)\n",
        "for user_id, user_vector in enumerate(adj_matrix):\n",
        "  if my_id != user_id:\n",
        "    euclidean_dist = np.sqrt(np.sum(np.square(my_vector-user_vector)))\n",
        "    if euclidean_dist < best_match:\n",
        "      best_match = euclidean_dist\n",
        "      best_match_id = user_id\n",
        "      best_match_vector = user_vector\n",
        "\n",
        "print('Best Match: {}, Best Match ID: {}'.format(best_match, best_match_id))"
      ],
      "metadata": {
        "colab": {
          "base_uri": "https://localhost:8080/"
        },
        "id": "kGadEd8ou-ls",
        "outputId": "e410e0c8-ab85-4a6e-9908-3af9d1f8135b"
      },
      "execution_count": 32,
      "outputs": [
        {
          "output_type": "stream",
          "name": "stdout",
          "text": [
            "Best Match: 14.832396974191326, Best Match ID: 737\n"
          ]
        }
      ]
    },
    {
      "cell_type": "code",
      "source": [
        "# ID 275가 볼 만한 영화 추천\n",
        "recommend_list = []\n",
        "for i, log in enumerate(zip(my_vector, best_match_vector)):\n",
        "  log1, log2 = log\n",
        "  if log1 < 1. and log2 > 0. :\n",
        "    recommend_list.append(i)\n",
        "print(recommend_list)"
      ],
      "metadata": {
        "colab": {
          "base_uri": "https://localhost:8080/"
        },
        "id": "smQn7HLMvgjy",
        "outputId": "823bef22-3050-4c87-a011-b838ecf895b7"
      },
      "execution_count": 33,
      "outputs": [
        {
          "output_type": "stream",
          "name": "stdout",
          "text": [
            "[297, 312, 317, 342, 356, 366, 379, 384, 392, 402, 404, 407, 417, 422, 428, 433, 448, 454, 469, 473, 495, 510, 516, 526, 527, 549, 567, 602, 635, 649, 650, 654, 658, 661, 664, 696, 731, 746, 750, 754, 915, 918, 925, 929, 950, 968, 1015, 1046]\n"
          ]
        }
      ]
    },
    {
      "cell_type": "markdown",
      "source": [
        "### 코사인 유사도를 사용\n"
      ],
      "metadata": {
        "id": "88EYvTShvxT1"
      }
    },
    {
      "cell_type": "code",
      "source": [
        "def compute_cos_similar(v1,v2):\n",
        "  norm1 = np.sqrt(np.sum(np.square(v1)))\n",
        "  norm2 = np.sqrt(np.sum(np.square(v2)))\n",
        "  dot = np.dot(v1,v2)\n",
        "  return dot / (norm1 * norm2)"
      ],
      "metadata": {
        "id": "0MBzRUKCvnqv"
      },
      "execution_count": 37,
      "outputs": []
    },
    {
      "cell_type": "code",
      "source": [
        "my_id, my_vector = 0, adj_matrix[0]\n",
        "best_match, best_match_id, best_match_vector =-1,-1,[]\n",
        "\n",
        "# 코사인 유사도를 계산(다른 아이디와 계산해야 함)\n",
        "for user_id, user_vector in enumerate(adj_matrix):\n",
        "  if my_id != user_id:\n",
        "    cos_similarity = compute_cos_similar(my_vector, user_vector)\n",
        "    if cos_similarity > best_match:\n",
        "      best_match = cos_similarity\n",
        "      best_match_id = user_id\n",
        "      best_match_vector = user_vector\n",
        "\n",
        "print('Best Match: {}, Best Match ID: {}'.format(best_match, best_match_id))"
      ],
      "metadata": {
        "colab": {
          "base_uri": "https://localhost:8080/"
        },
        "id": "TqN8_nKdwk0f",
        "outputId": "dcabd796-37dc-465a-c627-767604a0506f"
      },
      "execution_count": 40,
      "outputs": [
        {
          "output_type": "stream",
          "name": "stdout",
          "text": [
            "Best Match: 0.5278586163659506, Best Match ID: 915\n"
          ]
        }
      ]
    },
    {
      "cell_type": "code",
      "source": [
        "# ID 915는 봤지만 나는 안 본 영화\n",
        "recommend_list = []\n",
        "for i, log in enumerate(zip(my_vector, best_match_vector)):\n",
        "  log1, log2 = log\n",
        "  if log1 < 1. and log2 > 0. :\n",
        "    recommend_list.append(i)\n",
        "print(recommend_list)"
      ],
      "metadata": {
        "colab": {
          "base_uri": "https://localhost:8080/"
        },
        "id": "8eQvMbGXw7hJ",
        "outputId": "5638a60b-babe-4574-e8b2-2b926c5305b3"
      },
      "execution_count": 41,
      "outputs": [
        {
          "output_type": "stream",
          "name": "stdout",
          "text": [
            "[272, 275, 279, 280, 283, 285, 289, 294, 297, 316, 317, 355, 365, 366, 368, 379, 380, 381, 384, 386, 392, 398, 401, 404, 416, 420, 422, 424, 426, 427, 430, 432, 450, 460, 461, 466, 469, 471, 473, 474, 475, 479, 482, 483, 497, 505, 508, 510, 511, 522, 526, 527, 529, 530, 534, 536, 540, 545, 548, 549, 556, 557, 558, 560, 565, 567, 568, 569, 577, 580, 581, 582, 592, 596, 630, 635, 639, 641, 649, 651, 654, 673, 677, 678, 683, 684, 692, 696, 701, 703, 707, 708, 709, 712, 714, 719, 720, 726, 731, 734, 736, 738, 740, 745, 747, 754, 755, 761, 762, 763, 766, 780, 789, 791, 805, 819, 823, 824, 830, 843, 862, 865, 918, 929, 930, 938, 942, 943, 947, 958, 959, 960, 970, 977, 1004, 1008, 1009, 1010, 1013, 1041, 1045, 1069, 1072, 1073, 1078, 1097, 1100, 1108, 1112, 1118, 1134, 1193, 1205, 1207, 1216, 1219, 1267, 1334, 1400, 1427, 1596, 1681]\n"
          ]
        }
      ]
    },
    {
      "cell_type": "markdown",
      "source": [
        "### 기존 방법에 명시적 피드백(별점)을 추가해 실험\n"
      ],
      "metadata": {
        "id": "EyMS9GlXxm2k"
      }
    },
    {
      "cell_type": "code",
      "source": [
        "# 별점이 들어간 인접 행렬로 변환\n",
        "adj_matrix = np.ndarray(shape, dtype = int)\n",
        "for user_id, movie_id, rating, time in raw_data:\n",
        "  adj_matrix[user_id][movie_id] = rating\n",
        "adj_matrix"
      ],
      "metadata": {
        "colab": {
          "base_uri": "https://localhost:8080/"
        },
        "id": "VVqnMF3ExY0n",
        "outputId": "54c88f8f-b779-43ea-bba1-eb1d1382c32f"
      },
      "execution_count": 43,
      "outputs": [
        {
          "output_type": "execute_result",
          "data": {
            "text/plain": [
              "array([[5, 3, 4, ..., 0, 0, 0],\n",
              "       [4, 0, 0, ..., 0, 0, 0],\n",
              "       [0, 0, 0, ..., 0, 0, 0],\n",
              "       ...,\n",
              "       [5, 0, 0, ..., 0, 0, 0],\n",
              "       [0, 0, 0, ..., 0, 0, 0],\n",
              "       [0, 5, 0, ..., 0, 0, 0]])"
            ]
          },
          "metadata": {},
          "execution_count": 43
        }
      ]
    },
    {
      "cell_type": "code",
      "source": [
        "my_id, my_vector = 0, adj_matrix[0]\n",
        "best_match, best_match_id, best_match_vector =9999,-1,[]\n",
        "\n",
        "# 유클리디안 거리를 계산(다른 아이디와 계산해야 함)\n",
        "for user_id, user_vector in enumerate(adj_matrix):\n",
        "  if my_id != user_id:\n",
        "    euclidean_dist = np.sqrt(np.sum(np.square(my_vector-user_vector)))\n",
        "    if euclidean_dist < best_match:\n",
        "      best_match = euclidean_dist\n",
        "      best_match_id = user_id\n",
        "      best_match_vector = user_vector\n",
        "\n",
        "print('Best Match: {}, Best Match ID: {}'.format(best_match, best_match_id))"
      ],
      "metadata": {
        "colab": {
          "base_uri": "https://localhost:8080/"
        },
        "id": "cWDUiYyUyM0W",
        "outputId": "56d57e3f-a172-468a-9d84-9359ba932b70"
      },
      "execution_count": 44,
      "outputs": [
        {
          "output_type": "stream",
          "name": "stdout",
          "text": [
            "Best Match: 55.06359959174482, Best Match ID: 737\n"
          ]
        }
      ]
    },
    {
      "cell_type": "code",
      "source": [
        "my_id, my_vector = 0, adj_matrix[0]\n",
        "best_match, best_match_id, best_match_vector =-1,-1,[]\n",
        "\n",
        "# 코사인 유사도를 계산(다른 아이디와 계산해야 함)\n",
        "for user_id, user_vector in enumerate(adj_matrix):\n",
        "  if my_id != user_id:\n",
        "    cos_similarity = compute_cos_similar(my_vector, user_vector)\n",
        "    if cos_similarity > best_match:\n",
        "      best_match = cos_similarity\n",
        "      best_match_id = user_id\n",
        "      best_match_vector = user_vector\n",
        "\n",
        "print('Best Match: {}, Best Match ID: {}'.format(best_match, best_match_id))"
      ],
      "metadata": {
        "colab": {
          "base_uri": "https://localhost:8080/"
        },
        "id": "ma7ZQq-JyaZL",
        "outputId": "8b2da524-c3bf-46b5-b06a-81fa63b002e0"
      },
      "execution_count": 45,
      "outputs": [
        {
          "output_type": "stream",
          "name": "stdout",
          "text": [
            "Best Match: 0.569065731527988, Best Match ID: 915\n"
          ]
        }
      ]
    },
    {
      "cell_type": "markdown",
      "source": [
        "# 협업 필터링(Collaborative Filtering)"
      ],
      "metadata": {
        "id": "s_blPGkkylNm"
      }
    },
    {
      "cell_type": "markdown",
      "source": [
        "- 사용자와 항목의 유사성을 동시에 고려\n",
        "- 사용자의 기존 관심사가 아니라도 추천 가능\n",
        "- 자동으로 임베딩 학습 가능"
      ],
      "metadata": {
        "id": "PCbErzfzyvS1"
      }
    },
    {
      "cell_type": "code",
      "source": [
        "from surprise import KNNBasic, SVD, SVDpp, NMF\n",
        "from surprise import Dataset\n",
        "from surprise.model_selection import cross_validate"
      ],
      "metadata": {
        "id": "Sx1HLTZkyeWl"
      },
      "execution_count": 47,
      "outputs": []
    },
    {
      "cell_type": "code",
      "source": [
        "data = Dataset.load_builtin('ml-100k',prompt = False)"
      ],
      "metadata": {
        "id": "JtCMEKPkzQ9d"
      },
      "execution_count": 48,
      "outputs": []
    },
    {
      "cell_type": "markdown",
      "source": [
        "### KNN을 사용한 협업 필터링"
      ],
      "metadata": {
        "id": "lLYmOYvbzb8c"
      }
    },
    {
      "cell_type": "code",
      "source": [
        "model = KNNBasic()\n",
        "cross_validate(model, data, measures = ['rmse','mae'], cv = 5, n_jobs = 4, verbose = 1)"
      ],
      "metadata": {
        "colab": {
          "base_uri": "https://localhost:8080/"
        },
        "id": "TwojIdmFzZl-",
        "outputId": "15f51125-e235-4f7a-89a6-e76433138604"
      },
      "execution_count": 52,
      "outputs": [
        {
          "output_type": "stream",
          "name": "stdout",
          "text": [
            "Evaluating RMSE, MAE of algorithm KNNBasic on 5 split(s).\n",
            "\n",
            "                  Fold 1  Fold 2  Fold 3  Fold 4  Fold 5  Mean    Std     \n",
            "RMSE (testset)    0.9849  0.9813  0.9747  0.9718  0.9802  0.9786  0.0047  \n",
            "MAE (testset)     0.7758  0.7743  0.7702  0.7689  0.7737  0.7726  0.0026  \n",
            "Fit time          0.97    1.56    1.63    1.23    1.07    1.29    0.26    \n",
            "Test time         6.11    6.50    6.29    5.81    1.60    5.26    1.85    \n"
          ]
        },
        {
          "output_type": "execute_result",
          "data": {
            "text/plain": [
              "{'test_rmse': array([0.98487925, 0.98132948, 0.97473473, 0.97179677, 0.98023873]),\n",
              " 'test_mae': array([0.77577055, 0.77432673, 0.77023423, 0.76892282, 0.77371393]),\n",
              " 'fit_time': (0.971315860748291,\n",
              "  1.5648481845855713,\n",
              "  1.629490852355957,\n",
              "  1.231464147567749,\n",
              "  1.0705578327178955),\n",
              " 'test_time': (6.110782861709595,\n",
              "  6.498441219329834,\n",
              "  6.290028095245361,\n",
              "  5.812669992446899,\n",
              "  1.595560073852539)}"
            ]
          },
          "metadata": {},
          "execution_count": 52
        }
      ]
    },
    {
      "cell_type": "markdown",
      "source": [
        "### SVD를 활용한 협업 필터링"
      ],
      "metadata": {
        "id": "kU_3oZIl0Hrn"
      }
    },
    {
      "cell_type": "code",
      "source": [
        "model = SVD()\n",
        "cross_validate(model, data, measures = ['rmse','mae'], cv = 5, n_jobs = 4, verbose = 1)"
      ],
      "metadata": {
        "colab": {
          "base_uri": "https://localhost:8080/"
        },
        "id": "NXKiOqWizvsK",
        "outputId": "25c4f85f-331e-4fcf-955c-8c449780dcd1"
      },
      "execution_count": 53,
      "outputs": [
        {
          "output_type": "stream",
          "name": "stdout",
          "text": [
            "Evaluating RMSE, MAE of algorithm SVD on 5 split(s).\n",
            "\n",
            "                  Fold 1  Fold 2  Fold 3  Fold 4  Fold 5  Mean    Std     \n",
            "RMSE (testset)    0.9320  0.9363  0.9353  0.9389  0.9379  0.9361  0.0024  \n",
            "MAE (testset)     0.7362  0.7372  0.7399  0.7381  0.7407  0.7384  0.0017  \n",
            "Fit time          1.70    1.42    1.92    2.03    1.06    1.63    0.35    \n",
            "Test time         0.57    0.44    0.30    0.24    0.25    0.36    0.13    \n"
          ]
        },
        {
          "output_type": "execute_result",
          "data": {
            "text/plain": [
              "{'test_rmse': array([0.93197507, 0.93631666, 0.935342  , 0.9388834 , 0.93786088]),\n",
              " 'test_mae': array([0.7361661 , 0.73715678, 0.73985434, 0.73809656, 0.74065642]),\n",
              " 'fit_time': (1.702657699584961,\n",
              "  1.4243323802947998,\n",
              "  1.9215400218963623,\n",
              "  2.025596857070923,\n",
              "  1.0578153133392334),\n",
              " 'test_time': (0.5727307796478271,\n",
              "  0.4417154788970947,\n",
              "  0.29927611351013184,\n",
              "  0.239882230758667,\n",
              "  0.2544403076171875)}"
            ]
          },
          "metadata": {},
          "execution_count": 53
        }
      ]
    },
    {
      "cell_type": "markdown",
      "source": [
        "### SVD++를 활용한 협업 필터링"
      ],
      "metadata": {
        "id": "l5tssS7G0KGr"
      }
    },
    {
      "cell_type": "code",
      "source": [
        "model = SVDpp()\n",
        "cross_validate(model, data, measures = ['rmse','mae'], cv = 5, n_jobs = 4, verbose = 1)"
      ],
      "metadata": {
        "colab": {
          "base_uri": "https://localhost:8080/"
        },
        "id": "CzLS7hhoz17g",
        "outputId": "1cc00886-d4e3-41aa-b0a7-eeaca9d85f9c"
      },
      "execution_count": 54,
      "outputs": [
        {
          "output_type": "stream",
          "name": "stdout",
          "text": [
            "Evaluating RMSE, MAE of algorithm SVDpp on 5 split(s).\n",
            "\n",
            "                  Fold 1  Fold 2  Fold 3  Fold 4  Fold 5  Mean    Std     \n",
            "RMSE (testset)    0.9197  0.9134  0.9203  0.9183  0.9224  0.9188  0.0030  \n",
            "MAE (testset)     0.7234  0.7146  0.7233  0.7201  0.7239  0.7211  0.0035  \n",
            "Fit time          73.55   73.47   82.66   74.51   25.71   65.98   20.42   \n",
            "Test time         8.72    9.17    4.74    8.21    2.87    6.74    2.49    \n"
          ]
        },
        {
          "output_type": "execute_result",
          "data": {
            "text/plain": [
              "{'test_rmse': array([0.91966665, 0.91342252, 0.92034265, 0.91829986, 0.92244539]),\n",
              " 'test_mae': array([0.7234183 , 0.71461233, 0.72326327, 0.72012366, 0.72388141]),\n",
              " 'fit_time': (73.5452036857605,\n",
              "  73.46793532371521,\n",
              "  82.6584107875824,\n",
              "  74.5053358078003,\n",
              "  25.710814714431763),\n",
              " 'test_time': (8.721893072128296,\n",
              "  9.168325901031494,\n",
              "  4.736532688140869,\n",
              "  8.210378408432007,\n",
              "  2.8716914653778076)}"
            ]
          },
          "metadata": {},
          "execution_count": 54
        }
      ]
    },
    {
      "cell_type": "markdown",
      "source": [
        "### NMF를 사용한 협업 필터링"
      ],
      "metadata": {
        "id": "0la8HxR20WoN"
      }
    },
    {
      "cell_type": "code",
      "source": [
        "model = NMF()\n",
        "cross_validate(model, data, measures = ['rmse','mae'], cv = 5, n_jobs = 4, verbose = 1)"
      ],
      "metadata": {
        "colab": {
          "base_uri": "https://localhost:8080/"
        },
        "id": "6ftvNS3yz7Hb",
        "outputId": "30eccfa5-fb07-4a3d-9433-cdc29ceaa18a"
      },
      "execution_count": 56,
      "outputs": [
        {
          "output_type": "stream",
          "name": "stdout",
          "text": [
            "Evaluating RMSE, MAE of algorithm NMF on 5 split(s).\n",
            "\n",
            "                  Fold 1  Fold 2  Fold 3  Fold 4  Fold 5  Mean    Std     \n",
            "RMSE (testset)    0.9557  0.9692  0.9563  0.9558  0.9597  0.9593  0.0052  \n",
            "MAE (testset)     0.7545  0.7617  0.7527  0.7495  0.7524  0.7542  0.0041  \n",
            "Fit time          2.22    2.59    3.12    2.75    1.80    2.50    0.45    \n",
            "Test time         0.25    0.47    0.35    0.35    0.09    0.30    0.13    \n"
          ]
        },
        {
          "output_type": "execute_result",
          "data": {
            "text/plain": [
              "{'test_rmse': array([0.95566286, 0.96923224, 0.95628856, 0.95575761, 0.95965619]),\n",
              " 'test_mae': array([0.7544562 , 0.76168174, 0.75270228, 0.74954949, 0.75236549]),\n",
              " 'fit_time': (2.2213518619537354,\n",
              "  2.5934672355651855,\n",
              "  3.116603136062622,\n",
              "  2.754748821258545,\n",
              "  1.802133560180664),\n",
              " 'test_time': (0.2519080638885498,\n",
              "  0.46538829803466797,\n",
              "  0.35364699363708496,\n",
              "  0.34750914573669434,\n",
              "  0.0902094841003418)}"
            ]
          },
          "metadata": {},
          "execution_count": 56
        }
      ]
    },
    {
      "cell_type": "markdown",
      "source": [
        "# 하이브리드(Hybrid)\n",
        ": 성능 개굿"
      ],
      "metadata": {
        "id": "jB8WKj7K14d3"
      }
    },
    {
      "cell_type": "markdown",
      "source": [
        "- 컨텐츠 기반 필터링 + 협업 필터링 조합\n",
        "- 많은 하이브리드 방식 존재\n",
        "- 협업 필터링으로 임베딩 학습 ➡️ 컨텐츠 기반 필터링으로 유사도 기반 추천"
      ],
      "metadata": {
        "id": "OL2M7i7219_R"
      }
    },
    {
      "cell_type": "code",
      "source": [
        "import numpy as np\n",
        "from sklearn.decomposition import randomized_svd, non_negative_factorization\n",
        "from surprise import Dataset"
      ],
      "metadata": {
        "id": "oOL5eafW19Wa"
      },
      "execution_count": 59,
      "outputs": []
    },
    {
      "cell_type": "code",
      "source": [
        "data = Dataset.load_builtin('ml-100k', prompt = False)\n",
        "raw_data = np.array(data.raw_ratings, dtype = int)\n",
        "raw_data[:,0] -= 1\n",
        "raw_data[:,1] -= 1"
      ],
      "metadata": {
        "id": "0Zcig8VO2oyI"
      },
      "execution_count": 64,
      "outputs": []
    },
    {
      "cell_type": "code",
      "source": [
        "n_users = np.max(raw_data[:,0])\n",
        "n_movies = np.max(raw_data[:,1])\n",
        "shape = (n_users + 1, n_movies + 1)\n",
        "shape"
      ],
      "metadata": {
        "colab": {
          "base_uri": "https://localhost:8080/"
        },
        "id": "KIJ6cXw02__o",
        "outputId": "6f9ba721-2802-49db-f764-1879df1ab020"
      },
      "execution_count": 65,
      "outputs": [
        {
          "output_type": "execute_result",
          "data": {
            "text/plain": [
              "(943, 1682)"
            ]
          },
          "metadata": {},
          "execution_count": 65
        }
      ]
    },
    {
      "cell_type": "code",
      "source": [
        "adj_matrix = np.ndarray(shape, dtype = int)\n",
        "for user_id, movie_id, rating, time in raw_data:\n",
        "  adj_matrix[user_id][movie_id] = rating\n",
        "adj_matrix"
      ],
      "metadata": {
        "colab": {
          "base_uri": "https://localhost:8080/"
        },
        "id": "tsAQNg2F3Vsh",
        "outputId": "fb5f6856-e5d8-4342-9315-b2b7bf946207"
      },
      "execution_count": 66,
      "outputs": [
        {
          "output_type": "execute_result",
          "data": {
            "text/plain": [
              "array([[5, 3, 4, ..., 0, 0, 0],\n",
              "       [4, 0, 0, ..., 0, 0, 0],\n",
              "       [0, 0, 0, ..., 0, 0, 0],\n",
              "       ...,\n",
              "       [5, 0, 0, ..., 0, 0, 0],\n",
              "       [0, 0, 0, ..., 0, 0, 0],\n",
              "       [0, 5, 0, ..., 0, 0, 0]])"
            ]
          },
          "metadata": {},
          "execution_count": 66
        }
      ]
    },
    {
      "cell_type": "code",
      "source": [
        "# user, 특이값 , 인접 행렬\n",
        "U, S, V = randomized_svd(adj_matrix, n_components=2)\n",
        "S = np.diag(S)"
      ],
      "metadata": {
        "id": "NFxB7_eY3l_R"
      },
      "execution_count": 67,
      "outputs": []
    },
    {
      "cell_type": "code",
      "source": [
        "print(U.shape)\n",
        "print(S.shape) # 잠재 요인을 찾을 수 있는 특이값 벡터\n",
        "print(V.shape)"
      ],
      "metadata": {
        "colab": {
          "base_uri": "https://localhost:8080/"
        },
        "id": "82ft5NVk4PiQ",
        "outputId": "0f97f9d0-f60e-4426-96d8-56a812ae09e5"
      },
      "execution_count": 69,
      "outputs": [
        {
          "output_type": "stream",
          "name": "stdout",
          "text": [
            "(943, 2)\n",
            "(2, 2)\n",
            "(2, 1682)\n"
          ]
        }
      ]
    },
    {
      "cell_type": "code",
      "source": [
        "# 복원된 행렬(SVD)\n",
        "np.matmul(np.matmul(U,S),V)"
      ],
      "metadata": {
        "colab": {
          "base_uri": "https://localhost:8080/"
        },
        "id": "Lfk1ksF94S0x",
        "outputId": "0ac49788-2bc4-4a44-d390-d53460f45a6b"
      },
      "execution_count": 74,
      "outputs": [
        {
          "output_type": "execute_result",
          "data": {
            "text/plain": [
              "array([[ 3.91732674e+00,  1.47276647e+00,  7.98262063e-01, ...,\n",
              "         6.24907868e-04,  1.41100863e-02,  1.36545884e-02],\n",
              "       [ 1.85777212e+00,  3.96191001e-01,  5.05705398e-01, ...,\n",
              "         5.38862827e-03,  1.77236929e-03,  5.26961356e-04],\n",
              "       [ 8.94989107e-01,  1.71578375e-01,  2.51738387e-01, ...,\n",
              "         2.92094671e-03,  5.39932159e-04, -1.25736691e-04],\n",
              "       ...,\n",
              "       [ 9.92051633e-01,  2.10814844e-01,  2.70363102e-01, ...,\n",
              "         2.89019091e-03,  9.34216975e-04,  2.66609145e-04],\n",
              "       [ 1.30425387e+00,  5.27669959e-01,  2.50080172e-01, ...,\n",
              "        -4.20678316e-04,  5.30525873e-03,  5.28070102e-03],\n",
              "       [ 2.82999382e+00,  9.70812197e-01,  6.15871575e-01, ...,\n",
              "         2.02091395e-03,  8.67740597e-03,  8.03107761e-03]])"
            ]
          },
          "metadata": {},
          "execution_count": 74
        }
      ]
    },
    {
      "cell_type": "markdown",
      "source": [
        "#### 사용자 기반 추천"
      ],
      "metadata": {
        "id": "mg8thWJ54uus"
      }
    },
    {
      "cell_type": "code",
      "source": [
        "my_id, my_vector = 0,U[0]\n",
        "best_match, best_match_id, best_match_vector =-1,-1,[]\n",
        "\n",
        "# 코사인 유사도를 계산(다른 아이디와 계산해야 함)\n",
        "for user_id, user_vector in enumerate(U):\n",
        "  if my_id != user_id:\n",
        "    cos_similarity = compute_cos_similar(my_vector, user_vector)\n",
        "    if cos_similarity > best_match:\n",
        "      best_match = cos_similarity\n",
        "      best_match_id = user_id\n",
        "      best_match_vector = user_vector\n",
        "\n",
        "print('Best Match: {}, Best Match ID: {}'.format(best_match, best_match_id))"
      ],
      "metadata": {
        "colab": {
          "base_uri": "https://localhost:8080/"
        },
        "id": "KpDzR0Ms4aAs",
        "outputId": "c08d6ab5-1f5d-4056-aeaa-317a3695bfda"
      },
      "execution_count": 75,
      "outputs": [
        {
          "output_type": "stream",
          "name": "stdout",
          "text": [
            "Best Match: 0.9999942292403424, Best Match ID: 235\n"
          ]
        }
      ]
    },
    {
      "cell_type": "code",
      "source": [
        "# 사용자 기반 추천 영화 리스트\n",
        "recommend_list = []\n",
        "for i, log in enumerate(zip(adj_matrix[my_id], adj_matrix[best_match_id])):\n",
        "  log1, log2 = log\n",
        "  if log1 < 1. and log2 > 0. :\n",
        "    recommend_list.append(i)\n",
        "print(recommend_list)"
      ],
      "metadata": {
        "colab": {
          "base_uri": "https://localhost:8080/"
        },
        "id": "3r-FwQMG5Eyl",
        "outputId": "8ab4198d-cf1e-4a1e-82d7-06a66b991aaa"
      },
      "execution_count": 78,
      "outputs": [
        {
          "output_type": "stream",
          "name": "stdout",
          "text": [
            "[272, 273, 274, 281, 285, 288, 293, 297, 303, 306, 312, 317, 327, 332, 369, 410, 418, 419, 422, 426, 428, 431, 434, 442, 461, 475, 477, 482, 495, 503, 504, 505, 506, 509, 519, 520, 522, 525, 531, 545, 548, 590, 594, 595, 613, 631, 654, 658, 660, 672, 684, 685, 691, 695, 698, 704, 716, 728, 734, 749, 755, 863, 865, 933, 1012, 1038, 1101, 1327, 1400]\n"
          ]
        }
      ]
    },
    {
      "cell_type": "markdown",
      "source": [
        "#### 항목 기반 추천"
      ],
      "metadata": {
        "id": "KpbyoZ1-5qbs"
      }
    },
    {
      "cell_type": "markdown",
      "source": [
        "- 내가 본 항목과 비슷한 항목을 추천\n",
        "- 항목 특징 벡터의 유사도 사용"
      ],
      "metadata": {
        "id": "4IFuIGUX5sSO"
      }
    },
    {
      "cell_type": "code",
      "source": [
        "my_id, my_vector = 0,V.T[0]\n",
        "best_match, best_match_id, best_match_vector =-1,-1,[]\n",
        "\n",
        "# 코사인 유사도를 계산(다른 아이디와 계산해야 함)\n",
        "for user_id, user_vector in enumerate(V.T):\n",
        "  if my_id != user_id:\n",
        "    cos_similarity = compute_cos_similar(my_vector, user_vector)\n",
        "    if cos_similarity > best_match:\n",
        "      best_match = cos_similarity\n",
        "      best_match_id = user_id\n",
        "      best_match_vector = user_vector\n",
        "\n",
        "print('Best Match: {}, Best Match ID: {}'.format(best_match, best_match_id))"
      ],
      "metadata": {
        "colab": {
          "base_uri": "https://localhost:8080/"
        },
        "id": "ns0fIvju5VLy",
        "outputId": "b8abbc26-8adb-4fb2-a9d4-a0bb739bf6c6"
      },
      "execution_count": 91,
      "outputs": [
        {
          "output_type": "stream",
          "name": "stdout",
          "text": [
            "Best Match: 0.9999999949421506, Best Match ID: 1287\n"
          ]
        }
      ]
    },
    {
      "cell_type": "code",
      "source": [
        "# 사용자 기반 추천 영화 리스트\n",
        "recommend_list = []\n",
        "for i, user_vector in enumerate(adj_matrix):\n",
        "  if adj_matrix[i][my_id] > 0.9 :\n",
        "    recommend_list.append(i)\n",
        "print(recommend_list)"
      ],
      "metadata": {
        "colab": {
          "base_uri": "https://localhost:8080/"
        },
        "id": "b_QwdvvH5usl",
        "outputId": "42bd2a9f-03c8-4625-ce34-329b48637a70"
      },
      "execution_count": 92,
      "outputs": [
        {
          "output_type": "stream",
          "name": "stdout",
          "text": [
            "[0, 1, 4, 5, 9, 12, 14, 15, 16, 17, 19, 20, 22, 24, 25, 37, 40, 41, 42, 43, 44, 48, 53, 55, 56, 57, 58, 61, 62, 63, 64, 65, 66, 69, 71, 72, 74, 76, 78, 80, 81, 82, 83, 88, 91, 92, 93, 94, 95, 96, 98, 100, 101, 105, 107, 108, 116, 119, 120, 123, 124, 127, 129, 130, 133, 136, 137, 140, 143, 144, 147, 149, 150, 156, 157, 159, 161, 167, 173, 176, 177, 180, 181, 183, 188, 192, 193, 197, 198, 199, 200, 201, 202, 203, 208, 209, 212, 215, 221, 222, 229, 230, 231, 233, 234, 241, 242, 243, 245, 246, 247, 248, 249, 250, 251, 252, 253, 255, 261, 262, 264, 267, 270, 273, 274, 275, 276, 278, 279, 285, 286, 288, 289, 290, 291, 292, 293, 294, 295, 296, 297, 298, 300, 302, 304, 306, 307, 310, 311, 312, 313, 319, 321, 323, 324, 325, 326, 329, 330, 331, 335, 337, 338, 339, 342, 343, 344, 346, 347, 349, 356, 358, 359, 362, 364, 370, 373, 377, 378, 379, 380, 386, 387, 388, 389, 392, 393, 394, 395, 397, 398, 400, 401, 402, 405, 406, 410, 411, 415, 416, 418, 421, 423, 424, 428, 431, 433, 434, 437, 440, 444, 446, 449, 453, 454, 455, 456, 457, 458, 459, 462, 464, 466, 467, 469, 470, 471, 477, 478, 482, 483, 485, 486, 487, 489, 492, 493, 494, 496, 499, 502, 504, 507, 511, 513, 516, 517, 520, 522, 524, 525, 531, 532, 533, 534, 535, 536, 539, 540, 541, 544, 547, 548, 549, 551, 552, 553, 559, 560, 561, 566, 568, 575, 576, 578, 579, 581, 587, 591, 592, 596, 598, 601, 604, 605, 608, 609, 611, 612, 613, 617, 619, 620, 621, 623, 629, 631, 633, 634, 635, 636, 641, 642, 647, 648, 649, 652, 653, 654, 656, 657, 659, 660, 662, 663, 664, 668, 673, 675, 676, 677, 678, 679, 681, 683, 688, 689, 690, 691, 696, 697, 698, 700, 702, 704, 705, 707, 708, 709, 713, 714, 715, 720, 722, 725, 726, 729, 730, 732, 734, 737, 741, 743, 744, 745, 746, 747, 748, 750, 755, 756, 758, 760, 762, 763, 766, 767, 768, 769, 770, 772, 776, 778, 784, 785, 787, 788, 789, 791, 792, 793, 794, 795, 797, 799, 803, 804, 805, 806, 814, 816, 820, 821, 822, 825, 828, 829, 830, 834, 837, 838, 842, 846, 851, 853, 863, 864, 866, 867, 869, 871, 878, 879, 880, 881, 882, 884, 885, 886, 888, 889, 891, 892, 893, 894, 895, 896, 898, 900, 901, 902, 906, 909, 912, 915, 916, 917, 918, 920, 921, 922, 923, 926, 928, 929, 931, 932, 933, 934, 935, 937, 940]\n"
          ]
        }
      ]
    },
    {
      "cell_type": "markdown",
      "source": [
        "#### 비음수 행렬 분해를 사용한 하이브리드 추천"
      ],
      "metadata": {
        "id": "FRWdRcNS6LaF"
      }
    },
    {
      "cell_type": "code",
      "source": [
        "adj_matrix"
      ],
      "metadata": {
        "colab": {
          "base_uri": "https://localhost:8080/"
        },
        "id": "3mxLkygS51_q",
        "outputId": "9d246908-79e2-4d5a-e97a-3338ccc9419f"
      },
      "execution_count": 97,
      "outputs": [
        {
          "output_type": "execute_result",
          "data": {
            "text/plain": [
              "array([[5, 3, 4, ..., 0, 0, 0],\n",
              "       [4, 0, 0, ..., 0, 0, 0],\n",
              "       [0, 0, 0, ..., 0, 0, 0],\n",
              "       ...,\n",
              "       [5, 0, 0, ..., 0, 0, 0],\n",
              "       [0, 0, 0, ..., 0, 0, 0],\n",
              "       [0, 5, 0, ..., 0, 0, 0]])"
            ]
          },
          "metadata": {},
          "execution_count": 97
        }
      ]
    },
    {
      "cell_type": "code",
      "source": [
        "A,B, iter = non_negative_factorization(adj_matrix, n_components = 2)"
      ],
      "metadata": {
        "id": "nshlbR0c6Oyr"
      },
      "execution_count": 98,
      "outputs": []
    },
    {
      "cell_type": "code",
      "source": [
        "np.matmul(A,B)"
      ],
      "metadata": {
        "colab": {
          "base_uri": "https://localhost:8080/"
        },
        "id": "QdP9I_bM6Ws0",
        "outputId": "4c98966e-e27e-4bd8-f3da-8c02070aab90"
      },
      "execution_count": 99,
      "outputs": [
        {
          "output_type": "execute_result",
          "data": {
            "text/plain": [
              "array([[3.71107433e+00, 1.48461856e+00, 7.39541570e-01, ...,\n",
              "        3.64501983e-03, 1.45513751e-02, 1.44116215e-02],\n",
              "       [2.11729713e+00, 2.37145679e-01, 5.51637757e-01, ...,\n",
              "        4.76290749e-03, 2.84605930e-05, 0.00000000e+00],\n",
              "       [9.85325089e-01, 1.10360320e-01, 2.56715279e-01, ...,\n",
              "        2.21651094e-03, 1.32446863e-05, 0.00000000e+00],\n",
              "       ...,\n",
              "       [1.04478344e+00, 1.17019891e-01, 2.72206478e-01, ...,\n",
              "        2.35026384e-03, 1.40439223e-05, 0.00000000e+00],\n",
              "       [1.45769331e+00, 5.42108391e-01, 2.99217251e-01, ...,\n",
              "        1.61232500e-03, 5.15892655e-03, 5.10748255e-03],\n",
              "       [2.44709957e+00, 9.41278705e-01, 4.95671746e-01, ...,\n",
              "        2.56934867e-03, 9.08400301e-03, 8.99501717e-03]])"
            ]
          },
          "metadata": {},
          "execution_count": 99
        }
      ]
    },
    {
      "cell_type": "code",
      "source": [
        "my_id, my_vector = 0,U[0]\n",
        "best_match, best_match_id, best_match_vector =-1,-1,[]\n",
        "\n",
        "# 코사인 유사도를 계산(다른 아이디와 계산해야 함)\n",
        "for user_id, user_vector in enumerate(U):\n",
        "  if my_id != user_id:\n",
        "    cos_similarity = compute_cos_similar(my_vector, user_vector)\n",
        "    if cos_similarity > best_match:\n",
        "      best_match = cos_similarity\n",
        "      best_match_id = user_id\n",
        "      best_match_vector = user_vector\n",
        "\n",
        "print('Best Match: {}, Best Match ID: {}'.format(best_match, best_match_id))"
      ],
      "metadata": {
        "colab": {
          "base_uri": "https://localhost:8080/"
        },
        "id": "Ubifq4Kn6fHe",
        "outputId": "cd2f60cd-c6dd-4308-a134-f2df96b36875"
      },
      "execution_count": 100,
      "outputs": [
        {
          "output_type": "stream",
          "name": "stdout",
          "text": [
            "Best Match: 0.9999942292403424, Best Match ID: 235\n"
          ]
        }
      ]
    },
    {
      "cell_type": "code",
      "source": [
        "# 사용자 기반 추천 영화 리스트\n",
        "recommend_list = []\n",
        "for i, log in enumerate(zip(adj_matrix[my_id], adj_matrix[best_match_id])):\n",
        "  log1, log2 = log\n",
        "  if log1 < 1. and log2 > 0. :\n",
        "    recommend_list.append(i)\n",
        "print(recommend_list)"
      ],
      "metadata": {
        "colab": {
          "base_uri": "https://localhost:8080/"
        },
        "id": "jGKwrvSQ6jZ9",
        "outputId": "a41f082a-f501-49d7-a909-03a1980f9afc"
      },
      "execution_count": 101,
      "outputs": [
        {
          "output_type": "stream",
          "name": "stdout",
          "text": [
            "[272, 273, 274, 281, 285, 288, 293, 297, 303, 306, 312, 317, 327, 332, 369, 410, 418, 419, 422, 426, 428, 431, 434, 442, 461, 475, 477, 482, 495, 503, 504, 505, 506, 509, 519, 520, 522, 525, 531, 545, 548, 590, 594, 595, 613, 631, 654, 658, 660, 672, 684, 685, 691, 695, 698, 704, 716, 728, 734, 749, 755, 863, 865, 933, 1012, 1038, 1101, 1327, 1400]\n"
          ]
        }
      ]
    },
    {
      "cell_type": "code",
      "source": [
        "my_id, my_vector = 0,V.T[0]\n",
        "best_match, best_match_id, best_match_vector =-1,-1,[]\n",
        "\n",
        "# 코사인 유사도를 계산(다른 아이디와 계산해야 함)\n",
        "for user_id, user_vector in enumerate(V.T):\n",
        "  if my_id != user_id:\n",
        "    cos_similarity = compute_cos_similar(my_vector, user_vector)\n",
        "    if cos_similarity > best_match:\n",
        "      best_match = cos_similarity\n",
        "      best_match_id = user_id\n",
        "      best_match_vector = user_vector\n",
        "\n",
        "print('Best Match: {}, Best Match ID: {}'.format(best_match, best_match_id))"
      ],
      "metadata": {
        "colab": {
          "base_uri": "https://localhost:8080/"
        },
        "id": "eK1HCd-W6oZK",
        "outputId": "966cee1a-0217-40dc-e3ea-45cc28f36549"
      },
      "execution_count": 102,
      "outputs": [
        {
          "output_type": "stream",
          "name": "stdout",
          "text": [
            "Best Match: 0.9999999949421506, Best Match ID: 1287\n"
          ]
        }
      ]
    },
    {
      "cell_type": "code",
      "source": [
        "# 사용자 기반 추천 영화 리스트\n",
        "recommend_list = []\n",
        "for i, user_vector in enumerate(adj_matrix):\n",
        "  if adj_matrix[i][my_id] > 0.9 :\n",
        "    recommend_list.append(i)\n",
        "print(recommend_list)"
      ],
      "metadata": {
        "colab": {
          "base_uri": "https://localhost:8080/"
        },
        "id": "fDWUYNxC6xCW",
        "outputId": "48003be2-a170-4660-d143-1bba2ae5e5f9"
      },
      "execution_count": 103,
      "outputs": [
        {
          "output_type": "stream",
          "name": "stdout",
          "text": [
            "[0, 1, 4, 5, 9, 12, 14, 15, 16, 17, 19, 20, 22, 24, 25, 37, 40, 41, 42, 43, 44, 48, 53, 55, 56, 57, 58, 61, 62, 63, 64, 65, 66, 69, 71, 72, 74, 76, 78, 80, 81, 82, 83, 88, 91, 92, 93, 94, 95, 96, 98, 100, 101, 105, 107, 108, 116, 119, 120, 123, 124, 127, 129, 130, 133, 136, 137, 140, 143, 144, 147, 149, 150, 156, 157, 159, 161, 167, 173, 176, 177, 180, 181, 183, 188, 192, 193, 197, 198, 199, 200, 201, 202, 203, 208, 209, 212, 215, 221, 222, 229, 230, 231, 233, 234, 241, 242, 243, 245, 246, 247, 248, 249, 250, 251, 252, 253, 255, 261, 262, 264, 267, 270, 273, 274, 275, 276, 278, 279, 285, 286, 288, 289, 290, 291, 292, 293, 294, 295, 296, 297, 298, 300, 302, 304, 306, 307, 310, 311, 312, 313, 319, 321, 323, 324, 325, 326, 329, 330, 331, 335, 337, 338, 339, 342, 343, 344, 346, 347, 349, 356, 358, 359, 362, 364, 370, 373, 377, 378, 379, 380, 386, 387, 388, 389, 392, 393, 394, 395, 397, 398, 400, 401, 402, 405, 406, 410, 411, 415, 416, 418, 421, 423, 424, 428, 431, 433, 434, 437, 440, 444, 446, 449, 453, 454, 455, 456, 457, 458, 459, 462, 464, 466, 467, 469, 470, 471, 477, 478, 482, 483, 485, 486, 487, 489, 492, 493, 494, 496, 499, 502, 504, 507, 511, 513, 516, 517, 520, 522, 524, 525, 531, 532, 533, 534, 535, 536, 539, 540, 541, 544, 547, 548, 549, 551, 552, 553, 559, 560, 561, 566, 568, 575, 576, 578, 579, 581, 587, 591, 592, 596, 598, 601, 604, 605, 608, 609, 611, 612, 613, 617, 619, 620, 621, 623, 629, 631, 633, 634, 635, 636, 641, 642, 647, 648, 649, 652, 653, 654, 656, 657, 659, 660, 662, 663, 664, 668, 673, 675, 676, 677, 678, 679, 681, 683, 688, 689, 690, 691, 696, 697, 698, 700, 702, 704, 705, 707, 708, 709, 713, 714, 715, 720, 722, 725, 726, 729, 730, 732, 734, 737, 741, 743, 744, 745, 746, 747, 748, 750, 755, 756, 758, 760, 762, 763, 766, 767, 768, 769, 770, 772, 776, 778, 784, 785, 787, 788, 789, 791, 792, 793, 794, 795, 797, 799, 803, 804, 805, 806, 814, 816, 820, 821, 822, 825, 828, 829, 830, 834, 837, 838, 842, 846, 851, 853, 863, 864, 866, 867, 869, 871, 878, 879, 880, 881, 882, 884, 885, 886, 888, 889, 891, 892, 893, 894, 895, 896, 898, 900, 901, 902, 906, 909, 912, 915, 916, 917, 918, 920, 921, 922, 923, 926, 928, 929, 931, 932, 933, 934, 935, 937, 940]\n"
          ]
        }
      ]
    },
    {
      "cell_type": "code",
      "source": [],
      "metadata": {
        "id": "PqYKVtsT7JmJ"
      },
      "execution_count": null,
      "outputs": []
    }
  ]
}